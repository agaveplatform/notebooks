{
 "cells": [
  {
   "cell_type": "code",
   "execution_count": 7,
   "metadata": {},
   "outputs": [
    {
     "name": "stdout",
     "output_type": "stream",
     "text": [
      "tenants-init -b -t iplantc.org\n",
      "\u001b[1;0mYou are now configured to interact with the APIs at https://agave.iplantc.org/\u001b[0m\n"
     ]
    },
    {
     "ename": "",
     "evalue": "1",
     "output_type": "error",
     "traceback": []
    }
   ],
   "source": [
    "tenants-init -b -t iplantc.org"
   ]
  },
  {
   "cell_type": "code",
   "execution_count": 2,
   "metadata": {},
   "outputs": [
    {
     "name": "stdout",
     "output_type": "stream",
     "text": [
      "export AGAVE_USERNAME=<username> \n",
      "export AGAVE_PASSWORD=<password>`\n"
     ]
    },
    {
     "ename": "",
     "evalue": "1",
     "output_type": "error",
     "traceback": []
    }
   ],
   "source": [
    "export AGAVE_USERNAME=<username> \n",
    "export AGAVE_PASSWORD=<password>"
   ]
  },
  {
   "cell_type": "code",
   "execution_count": 3,
   "metadata": {},
   "outputs": [
    {
     "name": "stdout",
     "output_type": "stream",
     "text": [
      "clients-delete $AGAVE_USERNAME_jupyter\n",
      "\u001b[1;0mSuccessfully deleted client chri3701_jupyter\u001b[0m\n"
     ]
    },
    {
     "ename": "",
     "evalue": "1",
     "output_type": "error",
     "traceback": []
    }
   ],
   "source": [
    "clients-delete $AGAVE_USERNAME_jupyter"
   ]
  },
  {
   "cell_type": "code",
   "execution_count": 3,
   "metadata": {},
   "outputs": [
    {
     "name": "stdout",
     "output_type": "stream",
     "text": [
      "clients-create -N $AGAVE_USERNAME_jupyter -S\n",
      "\u001b[1;0m\u001b[1;0mSuccessfully created client chri3701_jupyter\n",
      "key: ZPol8_5UKn9MBbxDhROSQDwKscga \n",
      "secret: habKgjYLTu70BbJNSlTLRuQFeYQa\u001b[0m\u001b[0m\n"
     ]
    },
    {
     "ename": "",
     "evalue": "1",
     "output_type": "error",
     "traceback": []
    }
   ],
   "source": [
    "clients-create -N $AGAVE_USERNAME_jupyter -S"
   ]
  },
  {
   "cell_type": "code",
   "execution_count": 4,
   "metadata": {},
   "outputs": [
    {
     "name": "stdout",
     "output_type": "stream",
     "text": [
      "auth-tokens-create  -V -S\n",
      "Calling curl -sku \"ZPol8_5UKn9MBbxDhROSQDwKscga:$API_KEY\" -X POST --data-urlencode \"username=chri3701\" --data-urlencode \"password=Chile20152016\" --data-urlencode \"grant_type=password\" --data-urlencode \"scope=PRODUCTION\" 'https://agave.iplantc.org/token'\n",
      "\u001b[1;0mToken for iplantc.org:chri3701 successfully refreshed and cached for 14400 seconds\n",
      "{\n",
      "  \"scope\": \"default\",\n",
      "  \"token_type\": \"bearer\",\n",
      "  \"expires_in\": 14400,\n",
      "  \"refresh_token\": \"7df683ca3dc6599c22c3a688d86536\",\n",
      "  \"access_token\": \"d324844a3455f8dab95bc38391b143e\"\n",
      "}\u001b[0m\n"
     ]
    },
    {
     "ename": "",
     "evalue": "1",
     "output_type": "error",
     "traceback": []
    }
   ],
   "source": [
    "auth-tokens-create  -V -S"
   ]
  },
  {
   "cell_type": "code",
   "execution_count": 6,
   "metadata": {},
   "outputs": [
    {
     "name": "stdout",
     "output_type": "stream",
     "text": [
      "profiles-list me\n",
      "\u001b[1;0m\u001b[1;0mchri3701@umn.edu\u001b[0m\u001b[0m\n"
     ]
    },
    {
     "ename": "",
     "evalue": "1",
     "output_type": "error",
     "traceback": []
    }
   ],
   "source": [
    "profiles-list me"
   ]
  },
  {
   "cell_type": "markdown",
   "metadata": {},
   "source": [
    "# Basic file listings"
   ]
  },
  {
   "cell_type": "markdown",
   "metadata": {},
   "source": [
    "We can fetch a standard file listing using the `files-list` command. A list of JSON file items will be returned"
   ]
  },
  {
   "cell_type": "code",
   "execution_count": 40,
   "metadata": {},
   "outputs": [
    {
     "name": "stdout",
     "output_type": "stream",
     "text": [
      "files=$(files-list)\n"
     ]
    },
    {
     "ename": "",
     "evalue": "1",
     "output_type": "error",
     "traceback": []
    }
   ],
   "source": [
    "files=$(files-list)"
   ]
  },
  {
   "cell_type": "markdown",
   "metadata": {},
   "source": [
    "Each result represents a file or folder and contains summary info."
   ]
  },
  {
   "cell_type": "code",
   "execution_count": 43,
   "metadata": {
    "scrolled": true
   },
   "outputs": [
    {
     "name": "stdout",
     "output_type": "stream",
     "text": [
      "echo \"$files\" | head -n 1\n",
      "/\n"
     ]
    },
    {
     "ename": "",
     "evalue": "1",
     "output_type": "error",
     "traceback": []
    }
   ],
   "source": [
    "echo \"$files\" | head -n 1"
   ]
  },
  {
   "cell_type": "markdown",
   "metadata": {},
   "source": [
    "## Pagination"
   ]
  },
  {
   "cell_type": "markdown",
   "metadata": {},
   "source": [
    "Pagination is supported and, in fact, enforced by default. Page size defaults to 100 results. "
   ]
  },
  {
   "cell_type": "code",
   "execution_count": 44,
   "metadata": {},
   "outputs": [
    {
     "name": "stdout",
     "output_type": "stream",
     "text": [
      "echo \"$files\" | wc -l\n",
      "100\n"
     ]
    },
    {
     "ename": "",
     "evalue": "1",
     "output_type": "error",
     "traceback": []
    }
   ],
   "source": [
    "echo \"$files\" | wc -l"
   ]
  },
  {
   "cell_type": "markdown",
   "metadata": {},
   "source": [
    "You can specify an alternate number of results with the `limit` parameter."
   ]
  },
  {
   "cell_type": "code",
   "execution_count": 45,
   "metadata": {},
   "outputs": [
    {
     "name": "stdout",
     "output_type": "stream",
     "text": [
      "files-list -l 20 | wc -l\n",
      "20\n"
     ]
    },
    {
     "ename": "",
     "evalue": "1",
     "output_type": "error",
     "traceback": []
    }
   ],
   "source": [
    "files-list -l 20 | wc -l "
   ]
  },
  {
   "cell_type": "markdown",
   "metadata": {},
   "source": [
    "The max page size varies by tenant and service. For jobs, systems, etc, but is usually no more than 100. For the files api there is not a limit on the page size, but if none are specified, the default of 100 will be used as we saw. You can test this out (provided sufficient data) simply by requsting a large result set and checking the actual number returned."
   ]
  },
  {
   "cell_type": "code",
   "execution_count": 47,
   "metadata": {},
   "outputs": [
    {
     "name": "stdout",
     "output_type": "stream",
     "text": [
      "maxpagesize=$(files-list -l 100000 | wc -l)\n",
      "echo \"The max page size in this tenant is: $maxpagesize\"\n",
      "The max page size in this tenant is: 10029\n"
     ]
    },
    {
     "ename": "",
     "evalue": "1",
     "output_type": "error",
     "traceback": []
    }
   ],
   "source": [
    "maxpagesize=$(files-list -l 100000 | wc -l)\n",
    "echo \"The max page size in this tenant is: $maxpagesize ...large\""
   ]
  },
  {
   "cell_type": "markdown",
   "metadata": {},
   "source": [
    "No pagination parameters are included in the response at this time, so you need to paginate until you either get an empty response, or get back fewer than the number of results you requested with the `limit` parameter."
   ]
  },
  {
   "cell_type": "code",
   "execution_count": 164,
   "metadata": {},
   "outputs": [
    {
     "name": "stdout",
     "output_type": "stream",
     "text": [
      "Page 1 query returned 50 jobs\n",
      "Page 2 query returned 50 jobs\n",
      "Page 3 query returned 50 jobs\n",
      "Page 4 query returned 50 jobs\n",
      "Page 5 query returned 50 jobs\n",
      "Page 6 query returned 22 jobs\n",
      "There were 272 total jobs returned across 6 pages\n"
     ]
    }
   ],
   "source": [
    "pageSize=50\n",
    "pageCount=0\n",
    "\n",
    "totalJobs=0\n",
    "jobs=$(jobs-search --offset=pageCount --filter=\"id\" --limit=$pageSize name.eq=pysdk_testsuite | wc -l)\n",
    "while [[ \"$jobs\" -gt 0 ]]; do\n",
    "    pageCount=$[pageCount + 1]\n",
    "    totalJobs=$[totalJobs + $jobs]\n",
    "    echo \"Page $pageCount query returned $jobs jobs\"\n",
    "    jobs=$(jobs-search --offset=$[pageCount * pageSize] --filter=\"id\" --limit=$pageSize name.eq=pysdk_testsuite | wc -l)\n",
    "done\n",
    "\n",
    "if [[ len(jobs) > 0:\n",
    "    pageCount=$[pageCount + 1]\n",
    "    totalJobs=$[totalJobs + $jobs]\n",
    "    echo \"Page $pageCount query returned $jobs jobs\"\n",
    "\n",
    "echo \"There were $totalJObs total jobs returned across $pageCount pages\""
   ]
  },
  {
   "cell_type": "markdown",
   "metadata": {},
   "source": [
    "## Response filtering"
   ]
  },
  {
   "cell_type": "markdown",
   "metadata": {},
   "source": [
    "Notice in all the listing responses thus far, a subset of the full job details is returned. This is a convention to reduce response sizes. Agave provides a `filter` parameter enabling you to customize the response objects by specifying a comma-delimited list of fields you would like in the response.\n",
    "\n",
    "In the following example, we request just the job id, app id, and job status in the response."
   ]
  },
  {
   "cell_type": "code",
   "execution_count": 48,
   "metadata": {
    "scrolled": true
   },
   "outputs": [
    {
     "name": "stdout",
     "output_type": "stream",
     "text": [
      "jobs-list --filter=\"id,appId,status\" --limit=1\n",
      "\u001b[1;0m\u001b[0m\n"
     ]
    },
    {
     "ename": "",
     "evalue": "1",
     "output_type": "error",
     "traceback": []
    }
   ],
   "source": [
    "jobs-list -v --filter=\"id,appId,status\" --limit=1"
   ]
  },
  {
   "cell_type": "markdown",
   "metadata": {},
   "source": [
    "Specifying a nested object in the filter will return just that part of the object"
   ]
  },
  {
   "cell_type": "code",
   "execution_count": 201,
   "metadata": {},
   "outputs": [
    {
     "name": "stdout",
     "output_type": "stream",
     "text": [
      "[\n",
      "    {\n",
      "        \"_links\": {\n",
      "            \"executionSystem\": {\n",
      "                \"href\": \"https://public.agaveapi.co/systems/v2/docker.tacc.utexas.edu\"\n",
      "            }\n",
      "        }, \n",
      "        \"id\": \"4218907132382604825-242ac11c-0001-007\"\n",
      "    }\n",
      "]\n"
     ]
    }
   ],
   "source": [
    "jobs-list -v --filter=\"id,_links.executionSystem\" --limit=1"
   ]
  },
  {
   "cell_type": "markdown",
   "metadata": {},
   "source": [
    "Specifying multiple nested objects will honor the orignial structure"
   ]
  },
  {
   "cell_type": "code",
   "execution_count": 203,
   "metadata": {
    "scrolled": true
   },
   "outputs": [
    {
     "name": "stdout",
     "output_type": "stream",
     "text": [
      "[\n",
      "    {\n",
      "        \"appId\": \"cloud-runner-0.1.0u1\", \n",
      "        \"parameters\": {\n",
      "            \"xmax\": null, \n",
      "            \"xmin\": null\n",
      "        }\n",
      "    }\n",
      "]\n"
     ]
    }
   ],
   "source": [
    "jobs=jobs-list --filter=\"appId,parameters.xmax,parameters.xmin\" limit=1"
   ]
  },
  {
   "cell_type": "markdown",
   "metadata": {},
   "source": [
    "We can request the full object response by using a wildcard character, `*`, in the filter"
   ]
  },
  {
   "cell_type": "code",
   "execution_count": 213,
   "metadata": {},
   "outputs": [
    {
     "data": {
      "text/plain": [
       "[{u'_links': {u'app': {u'href': u'https://public.agaveapi.co/apps/v2/cloud-runner-0.1.0u1'},\n",
       "   u'archiveData': {u'href': u'https://public.agaveapi.co/files/v2/listings/system/data.agaveapi.co/dooley/archive/jobs/job-4218907132382604825-242ac11c-0001-007'},\n",
       "   u'archiveSystem': {u'href': u'https://public.agaveapi.co/systems/v2/data.agaveapi.co'},\n",
       "   u'executionSystem': {u'href': u'https://public.agaveapi.co/systems/v2/docker.tacc.utexas.edu'},\n",
       "   u'history': {u'href': u'https://public.agaveapi.co/jobs/v2/4218907132382604825-242ac11c-0001-007/history'},\n",
       "   u'metadata': {u'href': u'https://public.agaveapi.co/meta/v2/data/?q=%7B%22associationIds%22%3A%224218907132382604825-242ac11c-0001-007%22%7D'},\n",
       "   u'notifications': {u'href': u'https://public.agaveapi.co/notifications/v2/?associatedUuid=4218907132382604825-242ac11c-0001-007'},\n",
       "   u'owner': {u'href': u'https://public.agaveapi.co/profiles/v2/dooley'},\n",
       "   u'permissions': {u'href': u'https://public.agaveapi.co/jobs/v2/4218907132382604825-242ac11c-0001-007/pems'},\n",
       "   u'self': {u'href': u'https://public.agaveapi.co/jobs/v2/4218907132382604825-242ac11c-0001-007'}},\n",
       "  u'appId': u'cloud-runner-0.1.0u1',\n",
       "  u'archive': True,\n",
       "  u'archivePath': u'dooley/archive/jobs/job-4218907132382604825-242ac11c-0001-007',\n",
       "  u'archiveSystem': u'data.agaveapi.co',\n",
       "  u'batchQueue': u'debug',\n",
       "  u'created': u'2017-12-05T14:20:44.000-06:00',\n",
       "  u'endTime': datetime.datetime(2017, 12, 5, 14, 21, 53, tzinfo=tzoffset(None, -21600)),\n",
       "  u'executionSystem': u'docker.tacc.utexas.edu',\n",
       "  u'id': u'4218907132382604825-242ac11c-0001-007',\n",
       "  u'inputs': {u'appBundle': [u'agave://data.agaveapi.co/dooley/public/pyplot.tgz']},\n",
       "  u'lastUpdated': u'2017-12-05T14:34:54.000-06:00',\n",
       "  u'localId': u'14065',\n",
       "  u'maxRunTime': u'12:00:00',\n",
       "  u'memoryPerNode': 1.0,\n",
       "  u'name': u'dooley-cloud-runner-0.1.0u1-1512504690',\n",
       "  u'nodeCount': 1,\n",
       "  u'outputPath': u'/scratch/dooley/job-4218907132382604825-242ac11c-0001-007-dooley-cloud-runner-0-1-0u1-1512504690',\n",
       "  u'owner': u'dooley',\n",
       "  u'parameters': {u'command': u'python',\n",
       "   u'commandArgs': u'main.py',\n",
       "   u'dockerImage': u'agaveapi/scipy-matplot-2.7',\n",
       "   u'unpackInputs': True},\n",
       "  u'processorsPerNode': 1,\n",
       "  u'retries': 0,\n",
       "  u'startTime': datetime.datetime(2017, 12, 5, 14, 21, 33, tzinfo=tzoffset(None, -21600)),\n",
       "  u'status': u'FINISHED',\n",
       "  u'submitTime': u'2017-12-05T14:21:31.000-06:00'}]"
      ]
     },
     "execution_count": 213,
     "metadata": {},
     "output_type": "execute_result"
    }
   ],
   "source": [
    "jobs-list -v --filter=\"*\" --limit=1"
   ]
  },
  {
   "cell_type": "markdown",
   "metadata": {},
   "source": [
    "## General search syntax"
   ]
  },
  {
   "cell_type": "markdown",
   "metadata": {},
   "source": [
    "We can search across nearly all of Agave's APIs using a common jsonsql syntax.**\n",
    "\n",
    "\n",
    "`\"<field>.<operator>\" : \"value\"`\n",
    "\n",
    "The filed value is any attibute of the resource in the collection you are searching. The supported operators are listed in the following table.  \n",
    "\n",
    "\n",
    "| Operator | Values                     | Description                                                                                                                                                                          |\n",
    "|----------|----------------------------|--------------------------------------------------------------------------------------------------------------------------------------------------------------------------------------|\n",
    "| eq       | mixed                      | Matches values equal to the given search value. All comparisons are case sensitive. This cannot be used for complex object comparison.                                               |\n",
    "| on       | datestring                 | Matches dates falling on the given datestring. Regardless of the precision given in the datestring, the search will look for matches from midnight to midnight on the resovled date. |\n",
    "| neq      | mixed                      | Matches values not equal to the given search value. All comparisons are case sensitive. This cannot be used for complex object comparison.                                           |\n",
    "| lt       | mixed                      | Matches values less than the given search value.                                                                                                                                     |\n",
    "| before   | datestring                 | Matches dates falling before the given datestring. Single second precision is supported.                                                                                             |\n",
    "| lte      | mixed                      | Matches values less than or equal to the given search value.                                                                                                                         |\n",
    "| gt       | mixed                      | Matches values greater than the given search value.                                                                                                                                  |\n",
    "| after    | datestring                 | Matches values after the given datestring.                                                                                                                                           |\n",
    "| gte      | mixed                      | Matches values greater than or equal to the given search value.                                                                                                                      |\n",
    "| in       | comma-separated list       | Matches values in the given comma-separated list. This is equivalent to applying the like operator to each comma-separated value .                                                   |\n",
    "| nin      | comma-separated list       | Matches values not in the given comma-separated list. This is equivalent to applying the nlike operator to each comma-separated value .                                              |\n",
    "| like     | string                     | Matches values similar to the given search term. Wildcards (*) may be used to perform partial matches.                                                                               |\n",
    "| nlike    | string                     | Matches values different from the given search term. Wildcards (*) may be used to perform partial matches.                                                                           |\n",
    "| between  | comma-separated datestring | Matches dates falling within the given range. Single second precision is supported at either end of the range.                                                                       |\n",
    "\n",
    "> ** _(Metadata, profiles, and clients, are exceptions. Metadata uses mongodb query language. Profiles supports search by name an email only. Clients does not support seach)._ \n"
   ]
  },
  {
   "cell_type": "markdown",
   "metadata": {},
   "source": [
    "By default, if no operator is specified, an equality operator is implied, thus the following two queries are equivalent"
   ]
  },
  {
   "cell_type": "code",
   "execution_count": 215,
   "metadata": {
    "collapsed": true
   },
   "outputs": [],
   "source": [
    "jobs-search --filter=* id=9059371012861268456-242ac11c-0001-007\n",
    "jobs-search --filter=* id.eq=9059371012861268456-242ac11c-0001-007\n"
   ]
  },
  {
   "cell_type": "markdown",
   "metadata": {},
   "source": [
    "Valid fields are any of the resource's attributes. For a job resource, the following fields are valid:\n",
    "\n",
    "| Field name        | Description                                                                                                                                                      |\n",
    "|-------------------|------------------------------------------------------------------------------------------------------------------------------------------------------------------|\n",
    "| appId             | The id of the app run by the job.                                                                                                                                |\n",
    "| archive           | Boolean flag stating whether the job output  was archived.                                                                                                       |\n",
    "| archivePath       | Path on the archive system where the job output was archived if the archive flag was true.                                                                       |\n",
    "| archiveSystem     | The id of the system where the job output was archived if the archive flag was true.                                                                             |\n",
    "| batchQueue        | The system queue in which the job ran.                                                                                                                           |\n",
    "| created           | The date the job request was made. You may specify using structured or free form timeframes such as 'yesterday' or '-3 hours'.                                   |\n",
    "| endTime           | The date the job finished running. You may specify using structured or free form timeframes such as 'yesterday' or '-3 hours'.                                   |\n",
    "| executionSystem   | The execution system where the job ran.                                                                                                                          |\n",
    "| id                | The id of the job.                                                                                                                                               |\n",
    "| inputs            | The job inputs. Note, this is currently a full text match.                                                                                                       |\n",
    "| lastUpdated       | The date the job was last updated with a status change. Times may be specified in structured or free form timeframes such as 'yesterday' or '-3 days'.           |\n",
    "| localId           | The local job id of the job on the execution system.                                                                                                             |\n",
    "| maxRunTime        | The maximum run time of the job in HH:mm:ss format.                                                                                                              |\n",
    "| memoryPerNode     | The memory requested by the job specified in GB.                                                                                                                 |\n",
    "| name              | The name of the job.                                                                                                                                             |\n",
    "| nodeCount         | The number of nodes requested for the job.                                                                                                                       |\n",
    "| owner             | The user who submitted the job                                                                                                                                   |\n",
    "| outputPath        | The remote work directory path of the job.                                                                                                                       |\n",
    "| parameters        | The job parameters. Note, this is currently a full text match.                                                                                                   |\n",
    "| processorsPerNode | The number of processors per node requested by the job.                                                                                                          |\n",
    "| retries           | The number of retry attempts made on this job.                                                                                                                   |\n",
    "| runtime           | The duration of the job in seconds.                                                                                                                              |\n",
    "| startTime         | The date the job began running. Results are rounded by day. You may specify using YYYY-MM-DD format or free form timeframes such as 'yesterday' or '3 days ago'. |\n",
    "| status            | The job status.                                                                                                                                                  |\n",
    "| submitTime        | The date the job was submitted to the remote execution system to run. You may specify using structured or free form timeframes such as 'yesterday' or '-3 days'. |\n",
    "| visible           | Boolean flag indicating whether or not to show deleted jobs. Defaults to false.                                                                                  |"
   ]
  },
  {
   "cell_type": "markdown",
   "metadata": {},
   "source": [
    "## Search examples"
   ]
  },
  {
   "cell_type": "markdown",
   "metadata": {},
   "source": [
    "Seaching by a list of job ids"
   ]
  },
  {
   "cell_type": "code",
   "execution_count": 217,
   "metadata": {},
   "outputs": [
    {
     "data": {
      "text/plain": [
       "[{u'appId': u'funwave-tvd-shelob-stevenrbrandt-1.0',\n",
       "  u'id': u'9059371012861268456-242ac11c-0001-007'},\n",
       " {u'appId': u'funwave-tvd-shelob-stevenrbrandt-1.0',\n",
       "  u'id': u'4381740753562431000-242ac11c-0001-007'},\n",
       " {u'appId': u'funwave-tvd-shelob-stevenrbrandt-1.0',\n",
       "  u'id': u'3541227267326864920-242ac11c-0001-007'}]"
      ]
     },
     "execution_count": 217,
     "metadata": {},
     "output_type": "execute_result"
    }
   ],
   "source": [
    "jobs-search --filter=\"id,appId\" --limit=10 id.in=3541227267326864920-242ac11c-0001-007,4381740753562431000-242ac11c-0001-007,9059371012861268456-242ac11c-0001-007\""
   ]
  },
  {
   "cell_type": "markdown",
   "metadata": {},
   "source": [
    "Job submitted within a machine-readable date range"
   ]
  },
  {
   "cell_type": "code",
   "execution_count": 220,
   "metadata": {},
   "outputs": [
    {
     "data": {
      "text/plain": [
       "[{u'created': u'2016-06-16T15:30:07.000-05:00',\n",
       "  u'id': u'2098132481776620006-242ac114-0001-007'},\n",
       " {u'created': u'2016-06-28T11:34:05.000-05:00',\n",
       "  u'id': u'2390397378563543526-242ac114-0001-007'},\n",
       " {u'created': u'2016-06-28T11:27:52.000-05:00',\n",
       "  u'id': u'4791057735071109606-242ac114-0001-007'},\n",
       " {u'created': u'2016-06-24T18:12:31.000-05:00',\n",
       "  u'id': u'3987056349882552806-242ac114-0001-007'},\n",
       " {u'created': u'2016-06-24T19:12:26.000-05:00',\n",
       "  u'id': u'3801341964003512806-242ac114-0001-007'},\n",
       " {u'created': u'2016-06-22T23:39:41.000-05:00',\n",
       "  u'id': u'7580332640414068250-242ac114-0001-007'},\n",
       " {u'created': u'2016-06-23T00:39:37.000-05:00',\n",
       "  u'id': u'7722753755949428250-242ac114-0001-007'},\n",
       " {u'created': u'2016-06-20T16:08:21.000-05:00',\n",
       "  u'id': u'3222794955206946330-242ac114-0001-007'},\n",
       " {u'created': u'2016-06-18T15:06:15.000-05:00',\n",
       "  u'id': u'3337347505454247450-242ac114-0001-007'},\n",
       " {u'created': u'2016-06-18T02:47:20.000-05:00',\n",
       "  u'id': u'7495728450536861210-242ac114-0001-007'}]"
      ]
     },
     "execution_count": 220,
     "metadata": {},
     "output_type": "execute_result"
    }
   ],
   "source": [
    "jobs-search --filter=\"id,created\" --limit=10 \"created.between=2016-06-01,2016-06-30\""
   ]
  },
  {
   "cell_type": "markdown",
   "metadata": {},
   "source": [
    "Job submitted within a human-readable date range"
   ]
  },
  {
   "cell_type": "code",
   "execution_count": 237,
   "metadata": {},
   "outputs": [
    {
     "data": {
      "text/plain": [
       "[{u'created': u'2018-02-02T12:10:50.000-06:00',\n",
       "  u'id': u'7292002072357245416-242ac11c-0001-007'},\n",
       " {u'created': u'2018-02-02T12:59:10.000-06:00',\n",
       "  u'id': u'2734178173637562856-242ac11c-0001-007'},\n",
       " {u'created': u'2018-02-01T22:35:53.000-06:00',\n",
       "  u'id': u'8560316566115053080-242ac11c-0001-007'},\n",
       " {u'created': u'2018-02-01T21:55:56.000-06:00',\n",
       "  u'id': u'824291154109656600-242ac11c-0001-007'},\n",
       " {u'created': u'2018-01-31T21:08:17.000-06:00',\n",
       "  u'id': u'2379744003332313576-242ac11c-0001-007'},\n",
       " {u'created': u'2018-01-31T14:55:57.000-06:00',\n",
       "  u'id': u'2433772080572469736-242ac11c-0001-007'}]"
      ]
     },
     "execution_count": 237,
     "metadata": {},
     "output_type": "execute_result"
    }
   ],
   "source": [
    "jobs-search --filter=\"id,created\" --limit=10 \"created.between=last week,today\""
   ]
  },
  {
   "cell_type": "markdown",
   "metadata": {},
   "source": [
    "Job submitted within a human-readable timeframe range"
   ]
  },
  {
   "cell_type": "code",
   "execution_count": 239,
   "metadata": {},
   "outputs": [
    {
     "data": {
      "text/plain": [
       "[{u'created': u'2018-02-06T16:08:57.000-06:00',\n",
       "  u'id': u'5974073971606950376-242ac11c-0001-007'},\n",
       " {u'created': u'2018-02-06T13:21:58.000-06:00',\n",
       "  u'id': u'80722638825975320-242ac11c-0001-007'}]"
      ]
     },
     "execution_count": 239,
     "metadata": {},
     "output_type": "execute_result"
    }
   ],
   "source": [
    "jobs-search --filter=\"id,created\" --limit=10 \"created.after=one hour ago\""
   ]
  },
  {
   "cell_type": "markdown",
   "metadata": {},
   "source": [
    "Jobs whose name matches \"jobc\" anywhere"
   ]
  },
  {
   "cell_type": "code",
   "execution_count": 234,
   "metadata": {},
   "outputs": [
    {
     "data": {
      "text/plain": [
       "[{u'id': u'6379017166622101991-242ac11b-0001-007', u'name': u'fork-command-1'},\n",
       " {u'id': u'2225053646949781991-242ac11b-0001-007', u'name': u'fork-command-1'},\n",
       " {u'id': u'1210625321307541991-242ac11b-0001-007', u'name': u'fork-command-1'},\n",
       " {u'id': u'4003379076690603545-242ac11b-0001-007', u'name': u'fork-command-1'},\n",
       " {u'id': u'4971421755536043545-242ac11b-0001-007', u'name': u'fork-command-1'}]"
      ]
     },
     "execution_count": 234,
     "metadata": {},
     "output_type": "execute_result"
    }
   ],
   "source": [
    "jobs-search --filter=\"id,name\" --limit=5 \"name.like=*command*\""
   ]
  },
  {
   "cell_type": "markdown",
   "metadata": {},
   "source": [
    "Jobs whose name starts with \"agave\""
   ]
  },
  {
   "cell_type": "code",
   "execution_count": 235,
   "metadata": {},
   "outputs": [
    {
     "data": {
      "text/plain": [
       "[{u'id': u'2433772080572469736-242ac11c-0001-007', u'name': u'agavetest'},\n",
       " {u'id': u'3323381436709793305-242ac11c-0001-007', u'name': u'agavetest'},\n",
       " {u'id': u'7129947935458782745-242ac11c-0001-007', u'name': u'agavetest'},\n",
       " {u'id': u'6670355098705456665-242ac11c-0001-007', u'name': u'agavetest'},\n",
       " {u'id': u'7079966129724976665-242ac11c-0001-007', u'name': u'agavetest'}]"
      ]
     },
     "execution_count": 235,
     "metadata": {},
     "output_type": "execute_result"
    }
   ],
   "source": [
    "jobs-search --filter=\"id,name\" --limit=5 \"name.like=agave*\""
   ]
  },
  {
   "cell_type": "markdown",
   "metadata": {},
   "source": [
    "Jobs whose name ends with \"jobc-1\" anywhere"
   ]
  },
  {
   "cell_type": "code",
   "execution_count": 236,
   "metadata": {
    "scrolled": true
   },
   "outputs": [
    {
     "data": {
      "text/plain": [
       "[{u'id': u'5974073971606950376-242ac11c-0001-007', u'name': u'test-jobc-1'},\n",
       " {u'id': u'9059371012861268456-242ac11c-0001-007', u'name': u'test-jobc-1'},\n",
       " {u'id': u'4381740753562431000-242ac11c-0001-007', u'name': u'test-jobc-1'},\n",
       " {u'id': u'3541227267326864920-242ac11c-0001-007', u'name': u'test-jobc-1'},\n",
       " {u'id': u'925615411246132760-242ac11c-0001-007', u'name': u'test-jobc-1'}]"
      ]
     },
     "execution_count": 236,
     "metadata": {},
     "output_type": "execute_result"
    }
   ],
   "source": [
    "jobs-search --filter=\"id,name\" --limit=5 \"name.like=*jobc-1\""
   ]
  },
  {
   "cell_type": "markdown",
   "metadata": {},
   "source": [
    "Jobs with an active status"
   ]
  },
  {
   "cell_type": "code",
   "execution_count": 240,
   "metadata": {},
   "outputs": [
    {
     "data": {
      "text/plain": [
       "[{u'id': u'5974073971606950376-242ac11c-0001-007', u'status': u'QUEUED'},\n",
       " {u'id': u'80722638825975320-242ac11c-0001-007', u'status': u'RUNNING'},\n",
       " {u'id': u'3541227267326864920-242ac11c-0001-007', u'status': u'SUBMITTING'},\n",
       " {u'id': u'925615411246132760-242ac11c-0001-007', u'status': u'SUBMITTING'},\n",
       " {u'id': u'4771930423505972760-242ac11c-0001-007', u'status': u'SUBMITTING'}]"
      ]
     },
     "execution_count": 240,
     "metadata": {},
     "output_type": "execute_result"
    }
   ],
   "source": [
    "jobs-search --filter=\"id,status\" --limit=5 \"status.nin=STOPPED,FINISHED,FAILED,PAUSED\""
   ]
  },
  {
   "cell_type": "markdown",
   "metadata": {},
   "source": [
    "Failed jobs with core count greater than or equal to 8 that running in a queue named \"normal\" or \"long\" queues"
   ]
  },
  {
   "cell_type": "code",
   "execution_count": 241,
   "metadata": {},
   "outputs": [
    {
     "data": {
      "text/plain": [
       "[{u'batchQueue': u'normal',\n",
       "  u'executionSystem': u'stampede-fonner',\n",
       "  u'processorsPerNode': 16,\n",
       "  u'status': u'FINISHED'},\n",
       " {u'batchQueue': u'normal',\n",
       "  u'executionSystem': u'stampede-fonner',\n",
       "  u'processorsPerNode': 16,\n",
       "  u'status': u'FINISHED'},\n",
       " {u'batchQueue': u'normal',\n",
       "  u'executionSystem': u'stampede-fonner',\n",
       "  u'processorsPerNode': 16,\n",
       "  u'status': u'FAILED'},\n",
       " {u'batchQueue': u'normal',\n",
       "  u'executionSystem': u'stampede-fonner',\n",
       "  u'processorsPerNode': 16,\n",
       "  u'status': u'FINISHED'},\n",
       " {u'batchQueue': u'normal',\n",
       "  u'executionSystem': u'stampede-fonner',\n",
       "  u'processorsPerNode': 16,\n",
       "  u'status': u'FAILED'}]"
      ]
     },
     "execution_count": 241,
     "metadata": {},
     "output_type": "execute_result"
    }
   ],
   "source": [
    "jobs-search --filter=\"status,batchQueue,processorsPerNode,executionSystem\" --limit=5 processorsPerNode.gte=8 status.eq=FAILED"
   ]
  },
  {
   "cell_type": "markdown",
   "metadata": {},
   "source": [
    "Job with a parameter name \"xmax\""
   ]
  },
  {
   "cell_type": "code",
   "execution_count": 244,
   "metadata": {},
   "outputs": [
    {
     "data": {
      "text/plain": [
       "[{u'appId': u'drawgau-shelob-stevenrbrandt-1.0',\n",
       "  u'id': u'5974073971606950376-242ac11c-0001-007',\n",
       "  u'parameters': {u'dx': u'0.1', u'xmax': 10, u'xmin': u'-1'}},\n",
       " {u'appId': u'funwave-tvd-shelob-stevenrbrandt-1.0',\n",
       "  u'id': u'9059371012861268456-242ac11c-0001-007',\n",
       "  u'parameters': {u'dx': u'0.1', u'xmax': 10, u'xmin': u'-1'}},\n",
       " {u'appId': u'funwave-tvd-shelob-stevenrbrandt-1.0',\n",
       "  u'id': u'4381740753562431000-242ac11c-0001-007',\n",
       "  u'parameters': {u'dx': u'0.1', u'xmax': 2, u'xmin': u'-1'}},\n",
       " {u'appId': u'funwave-tvd-shelob-stevenrbrandt-1.0',\n",
       "  u'id': u'3541227267326864920-242ac11c-0001-007',\n",
       "  u'parameters': {u'dx': u'0.1', u'xmax': 2, u'xmin': u'-1'}},\n",
       " {u'appId': u'funwave-tvd-shelob-stevenrbrandt-1.0',\n",
       "  u'id': u'925615411246132760-242ac11c-0001-007',\n",
       "  u'parameters': {u'dx': u'0.1', u'xmax': 2, u'xmin': u'-1'}},\n",
       " {u'appId': u'funwave-tvd-shelob-stevenrbrandt-1.0',\n",
       "  u'id': u'4771930423505972760-242ac11c-0001-007',\n",
       "  u'parameters': {u'dx': u'0.1', u'xmax': 2, u'xmin': u'-1'}}]"
      ]
     },
     "execution_count": 244,
     "metadata": {},
     "output_type": "execute_result"
    }
   ],
   "source": [
    "jobs-search --filter=\"id,parameters,appId\" --limit=10 parameters.like=*xmax*"
   ]
  },
  {
   "cell_type": "markdown",
   "metadata": {},
   "source": [
    "Jobs with a parameter named compress_output and value True"
   ]
  },
  {
   "cell_type": "code",
   "execution_count": 255,
   "metadata": {},
   "outputs": [
    {
     "data": {
      "text/plain": [
       "[{u'appId': u'training034-training034-funwave-1.0',\n",
       "  u'id': u'6890774133532135911-242ac11b-0001-007',\n",
       "  u'parameters': {u'AMP': u'4.0', u'WID': u'20.0', u'compress_output': True}},\n",
       " {u'appId': u'training046-training046-funwave-1.0',\n",
       "  u'id': u'7790569782044135911-242ac11b-0001-007',\n",
       "  u'parameters': {u'AMP': u'4.0', u'WID': u'20.0', u'compress_output': True}},\n",
       " {u'appId': u'training039-training039-funwave-1.0',\n",
       "  u'id': u'6371340788753895911-242ac11b-0001-007',\n",
       "  u'parameters': {u'AMP': u'4.0', u'WID': u'20.0', u'compress_output': True}},\n",
       " {u'appId': u'stevenrbrandt-sandbox-funwave-1.0',\n",
       "  u'id': u'4436216878533373465-242ac11b-0001-007',\n",
       "  u'parameters': {u'AMP': u'4.0', u'WID': u'20.0', u'compress_output': True}},\n",
       " {u'appId': u'training001-training001-funwave-1.0',\n",
       "  u'id': u'8026888640813994471-242ac11b-0001-007',\n",
       "  u'parameters': {u'AMP': u'4.0', u'WID': u'20.0', u'compress_output': True}}]"
      ]
     },
     "execution_count": 255,
     "metadata": {},
     "output_type": "execute_result"
    }
   ],
   "source": [
    "jobs-search --filter=\"id,parameters,appId\" --limit=10 'parameters.like=*\"compress_output\":true*'"
   ]
  },
  {
   "cell_type": "code",
   "execution_count": null,
   "metadata": {
    "collapsed": true
   },
   "outputs": [],
   "source": [
    "Jobs with a parameter named AMP and value of 4.0"
   ]
  },
  {
   "cell_type": "code",
   "execution_count": 272,
   "metadata": {},
   "outputs": [
    {
     "data": {
      "text/plain": [
       "[{u'appId': u'training034-training034-funwave-1.0',\n",
       "  u'id': u'6890774133532135911-242ac11b-0001-007',\n",
       "  u'parameters': {u'AMP': u'4.0', u'WID': u'20.0', u'compress_output': True}},\n",
       " {u'appId': u'training046-training046-funwave-1.0',\n",
       "  u'id': u'7790569782044135911-242ac11b-0001-007',\n",
       "  u'parameters': {u'AMP': u'4.0', u'WID': u'20.0', u'compress_output': True}},\n",
       " {u'appId': u'training039-training039-funwave-1.0',\n",
       "  u'id': u'6371340788753895911-242ac11b-0001-007',\n",
       "  u'parameters': {u'AMP': u'4.0', u'WID': u'20.0', u'compress_output': True}},\n",
       " {u'appId': u'stevenrbrandt-sandbox-funwave-1.0',\n",
       "  u'id': u'4436216878533373465-242ac11b-0001-007',\n",
       "  u'parameters': {u'AMP': u'4.0', u'WID': u'20.0', u'compress_output': True}},\n",
       " {u'appId': u'training001-training001-funwave-1.0',\n",
       "  u'id': u'8026888640813994471-242ac11b-0001-007',\n",
       "  u'parameters': {u'AMP': u'4.0', u'WID': u'20.0', u'compress_output': True}}]"
      ]
     },
     "execution_count": 272,
     "metadata": {},
     "output_type": "execute_result"
    }
   ],
   "source": [
    "jobs-search --filter=\"id,parameters,appId\" --limit=10 'parameters.like=*\"AMP\":\"4.0\"*'"
   ]
  },
  {
   "cell_type": "markdown",
   "metadata": {},
   "source": [
    "Jobs run with a \"command\" parameter equal to \"jellyfish count\" and the term \"singularity\" in the \"commandArgs\" parameter"
   ]
  },
  {
   "cell_type": "code",
   "execution_count": 274,
   "metadata": {},
   "outputs": [
    {
     "data": {
      "text/plain": [
       "[{u'appId': u'jfonner-run-singularity-4.2.3',\n",
       "  u'id': u'5666214359159476711-242ac11c-0001-007',\n",
       "  u'parameters': {u'command': u'jellyfish count',\n",
       "   u'commandArgs': u'-m 21 -s 100M -t 10 -C -o run-singularity.jf sample.fasta',\n",
       "   u'unpackImage': True}},\n",
       " {u'appId': u'jfonner-run-singularity-4.2.3',\n",
       "  u'id': u'6977370361690722791-242ac11c-0001-007',\n",
       "  u'parameters': {u'command': u'jellyfish count',\n",
       "   u'commandArgs': u'-m 21 -s 100M -t 10 -C -o run-singularity.jf sample.fasta',\n",
       "   u'unpackImage': True}},\n",
       " {u'appId': u'jfonner-run-singularity-4.2.3',\n",
       "  u'id': u'7033365121638928871-242ac11c-0001-007',\n",
       "  u'parameters': {u'command': u'jellyfish count',\n",
       "   u'commandArgs': u'-m 21 -s 100M -t 10 -C -o run-singularity.jf sample.fasta',\n",
       "   u'unpackImage': True}},\n",
       " {u'appId': u'jfonner-run-singularity-4.2.3',\n",
       "  u'id': u'1645389394042416665-242ac11c-0001-007',\n",
       "  u'parameters': {u'command': u'jellyfish count',\n",
       "   u'commandArgs': u'-m 21 -s 100M -t 10 -C -o run-singularity.jf sample.fasta',\n",
       "   u'unpackImage': True}}]"
      ]
     },
     "execution_count": 274,
     "metadata": {},
     "output_type": "execute_result"
    }
   ],
   "source": [
    "jobs-search --filter=\"id,parameters,appId\" --limit=1000 'parameters.like=*\"command\":\"jellyfish count\"*\"commandArgs\":\"*singularity*\"*'"
   ]
  },
  {
   "cell_type": "markdown",
   "metadata": {},
   "source": [
    "Jobs submitted to a system with \"stampede\" in the id that failed at least once before completing"
   ]
  },
  {
   "cell_type": "code",
   "execution_count": 275,
   "metadata": {},
   "outputs": [
    {
     "data": {
      "text/plain": [
       "[{u'appId': u'jfonner-run-singularity-4.2.3',\n",
       "  u'batchQueue': u'normal',\n",
       "  u'executionSystem': u'stampede-fonner',\n",
       "  u'id': u'8457952584876888551-242ac11c-0001-007',\n",
       "  u'retries': 2},\n",
       " {u'appId': u'jfonner-run-singularity-4.2.3',\n",
       "  u'batchQueue': u'normal',\n",
       "  u'executionSystem': u'stampede-fonner',\n",
       "  u'id': u'6977370361690722791-242ac11c-0001-007',\n",
       "  u'retries': 2},\n",
       " {u'appId': u'jfonner-run-singularity-4.2.3',\n",
       "  u'batchQueue': u'normal',\n",
       "  u'executionSystem': u'stampede-fonner',\n",
       "  u'id': u'3265398421756187111-242ac11c-0001-007',\n",
       "  u'retries': 2},\n",
       " {u'appId': u'XSEDE16-wc-train203-1.0',\n",
       "  u'batchQueue': u'normal-mic',\n",
       "  u'executionSystem': u'stampede-XSEDE16-train203',\n",
       "  u'id': u'8168029301700816410-242ac114-0001-007',\n",
       "  u'retries': 2},\n",
       " {u'appId': u'XSEDE16-wc-train203-1.0',\n",
       "  u'batchQueue': u'normal-mic',\n",
       "  u'executionSystem': u'stampede-XSEDE16-train203',\n",
       "  u'id': u'65756910080290330-242ac114-0001-007',\n",
       "  u'retries': 2},\n",
       " {u'appId': u'XSEDE16-wc-train240-1.0',\n",
       "  u'batchQueue': u'normal-mic',\n",
       "  u'executionSystem': u'stampede-XSEDE16-train240',\n",
       "  u'id': u'2143318490501410330-242ac114-0001-007',\n",
       "  u'retries': 2}]"
      ]
     },
     "execution_count": 275,
     "metadata": {},
     "output_type": "execute_result"
    }
   ],
   "source": [
    "jobs-search --filter=\"id,parameters,appId\" --limit=10 executionSystem.like=*stampede* retries.gt=1"
   ]
  }
 ],
 "metadata": {
  "kernelspec": {
   "display_name": "Bash",
   "language": "bash",
   "name": "bash"
  },
  "language_info": {
   "codemirror_mode": "shell",
   "file_extension": ".sh",
   "mimetype": "text/x-sh",
   "name": "bash"
  }
 },
 "nbformat": 4,
 "nbformat_minor": 2
}
