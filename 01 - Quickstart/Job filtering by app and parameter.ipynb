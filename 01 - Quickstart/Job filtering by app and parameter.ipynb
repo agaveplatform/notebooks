{
 "cells": [
  {
   "cell_type": "code",
   "execution_count": 31,
   "metadata": {
    "collapsed": true
   },
   "outputs": [],
   "source": [
    "from agavepy.agave import Agave\n",
    "from warnings import filterwarnings\n",
    "\n",
    "import json, os\n",
    "filterwarnings('ignore')"
   ]
  },
  {
   "cell_type": "code",
   "execution_count": null,
   "metadata": {},
   "outputs": [],
   "source": [
    "agave_cache_dir = os.environ.get('AGAVE_CACHE_DIR')\n",
    "ag_token_cache = json.loads(open(agave_cache_dir + '/current').read())\n",
    "print (ag_token_cache)"
   ]
  },
  {
   "cell_type": "code",
   "execution_count": 46,
   "metadata": {},
   "outputs": [
    {
     "data": {
      "text/plain": [
       "'/home/jovyan/work/.agave'"
      ]
     },
     "execution_count": 46,
     "metadata": {},
     "output_type": "execute_result"
    }
   ],
   "source": [
    "%env AGAVE_CACHE_DIR"
   ]
  },
  {
   "cell_type": "code",
   "execution_count": 55,
   "metadata": {},
   "outputs": [],
   "source": [
    "api = Agave(token=ag_token_cache['access_token'], refresh_token=ag_token_cache['refresh_token'], api_key=ag_token_cache['apikey'], api_secret=ag_token_cache['apisecret'],api_server=ag_token_cache['baseurl'], client_name=ag_token_cache['client_name'])"
   ]
  },
  {
   "cell_type": "code",
   "execution_count": 61,
   "metadata": {},
   "outputs": [],
   "source": [
    "api = api.restore()"
   ]
  },
  {
   "cell_type": "code",
   "execution_count": null,
   "metadata": {},
   "outputs": [],
   "source": [
    "api.token.token_info"
   ]
  },
  {
   "cell_type": "code",
   "execution_count": null,
   "metadata": {},
   "outputs": [],
   "source": [
    "api.token.refresh()"
   ]
  },
  {
   "cell_type": "code",
   "execution_count": 90,
   "metadata": {},
   "outputs": [
    {
     "data": {
      "text/plain": [
       "{u'create_time': u'20090924210501Z',\n",
       " u'email': u'dooley@tacc.utexas.edu',\n",
       " u'first_name': u'Rion',\n",
       " u'full_name': u'Rion Dooley',\n",
       " u'last_name': u'Dooley',\n",
       " u'mobile_phone': u'',\n",
       " u'phone': u'',\n",
       " u'status': u'',\n",
       " u'username': u'dooley'}"
      ]
     },
     "execution_count": 90,
     "metadata": {},
     "output_type": "execute_result"
    }
   ],
   "source": [
    "api.profiles.listByUsername(username=\"dooley\")"
   ]
  },
  {
   "cell_type": "code",
   "execution_count": 96,
   "metadata": {},
   "outputs": [],
   "source": [
    "apps = api.apps.list(search={\"name.like\": \"*blast*\"},filter= \"*\")"
   ]
  },
  {
   "cell_type": "code",
   "execution_count": 137,
   "metadata": {},
   "outputs": [
    {
     "data": {
      "text/plain": [
       "27"
      ]
     },
     "execution_count": 137,
     "metadata": {},
     "output_type": "execute_result"
    }
   ],
   "source": [
    "len(apps)"
   ]
  },
  {
   "cell_type": "code",
   "execution_count": 113,
   "metadata": {
    "collapsed": true
   },
   "outputs": [],
   "source": [
    "jobs = api.jobs.list(search={\"appId.like\":\"*blast*\"}, limit=99999, filter=\"*\")"
   ]
  },
  {
   "cell_type": "code",
   "execution_count": 114,
   "metadata": {},
   "outputs": [
    {
     "data": {
      "text/plain": [
       "300"
      ]
     },
     "execution_count": 114,
     "metadata": {},
     "output_type": "execute_result"
    }
   ],
   "source": [
    "len(jobs)"
   ]
  },
  {
   "cell_type": "code",
   "execution_count": 136,
   "metadata": {},
   "outputs": [
    {
     "data": {
      "text/plain": [
       "129"
      ]
     },
     "execution_count": 136,
     "metadata": {},
     "output_type": "execute_result"
    }
   ],
   "source": [
    "matches = []\n",
    "for job in jobs:\n",
    "    if 'PCT_ID' in job.parameters:\n",
    "        if float(job.parameters['PCT_ID']) > .50 and float(job.parameters['PCT_ID']) < .98:\n",
    "            #print(\"[\" + job.id + \"] PCT_ID = \" + job.parameters['PCT_ID'])\n",
    "            matches.append(job)\n",
    "        \n",
    "len(matches)"
   ]
  },
  {
   "cell_type": "code",
   "execution_count": 138,
   "metadata": {},
   "outputs": [
    {
     "name": "stdout",
     "output_type": "stream",
     "text": [
      "[2438276638736903705-242ac114-0001-007] PCT_ID = .95\n",
      "[584111224817455591-242ac113-0001-007] PCT_ID = .90\n",
      "[2553773258661424665-242ac113-0001-007] PCT_ID = .90\n",
      "[4845095361404464665-242ac113-0001-007] PCT_ID = .90\n",
      "[500521193135664665-242ac113-0001-007] PCT_ID = .90\n",
      "[523313110884880871-242ac113-0001-007] PCT_ID = .90\n",
      "[3589547571764784665-242ac113-0001-007] PCT_ID = .90\n",
      "[1510096205733424665-242ac113-0001-007] PCT_ID = .90\n",
      "[3046911649200083431-242ac113-0001-007] PCT_ID = .90\n",
      "[1780282843936723431-242ac113-0001-007] PCT_ID = .90\n",
      "[1729134933624942105-242ac113-0001-007] PCT_ID = .90\n",
      "[4130403048962003431-242ac113-0001-007] PCT_ID = .90\n",
      "[544019457456083431-242ac113-0001-007] PCT_ID = .90\n",
      "[565671242811502105-242ac113-0001-007] PCT_ID = .90\n",
      "[1703508551173935591-242ac113-0001-007] PCT_ID = .90\n",
      "[589789236525329945-242ac113-0001-007] PCT_ID = .90\n",
      "[2219815224703249945-242ac113-0001-007] PCT_ID = .90\n",
      "[3318811456403729945-242ac113-0001-007] PCT_ID = .90\n",
      "[4490950981155089945-242ac113-0001-007] PCT_ID = .90\n",
      "[8910949314354418151-242ac113-0001-007] PCT_ID = .90\n",
      "[4715754998316592665-242ac113-0001-007] PCT_ID = .90\n",
      "[6051833424756272665-242ac113-0001-007] PCT_ID = .90\n",
      "[7769004299370032665-242ac113-0001-007] PCT_ID = .90\n",
      "[8796403426246192665-242ac113-0001-007] PCT_ID = .90\n",
      "[8457928877074878951-242ac113-0001-007] PCT_ID = .90\n",
      "[3004620514935312871-242ac113-0001-007] PCT_ID = .90\n",
      "[1650932722582032871-242ac113-0001-007] PCT_ID = .90\n",
      "[4099751276069392871-242ac113-0001-007] PCT_ID = .90\n",
      "[608630059188752871-242ac113-0001-007] PCT_ID = .90\n",
      "[364523630738992665-242ac113-0001-007] PCT_ID = .90\n",
      "[1465925044125232665-242ac113-0001-007] PCT_ID = .90\n",
      "[7889838157037441511-242ac113-0001-007] PCT_ID = .90\n",
      "[6873090549055361511-242ac113-0001-007] PCT_ID = .90\n",
      "[5580734889688961511-242ac113-0001-007] PCT_ID = .90\n",
      "[3342541532397441511-242ac113-0001-007] PCT_ID = .90\n",
      "[4371443897827201511-242ac113-0001-007] PCT_ID = .90\n",
      "[2338163430227841511-242ac113-0001-007] PCT_ID = .90\n",
      "[4487276756943695385-242ac113-0001-007] PCT_ID = .90\n",
      "[8133102695826255385-242ac113-0001-007] PCT_ID = .90\n",
      "[6829064725414735385-242ac113-0001-007] PCT_ID = .90\n",
      "[5671270391432015385-242ac113-0001-007] PCT_ID = .90\n",
      "[9141587752477856231-242ac113-0001-007] PCT_ID = .90\n",
      "[6143271083140256231-242ac113-0001-007] PCT_ID = .90\n",
      "[7829334777265384985-242ac113-0001-007] PCT_ID = .90\n",
      "[6548747328290024985-242ac113-0001-007] PCT_ID = .90\n",
      "[3768787899465929191-242ac113-0001-007] PCT_ID = .90\n",
      "[2345650485936329191-242ac113-0001-007] PCT_ID = .90\n",
      "[1218092721717449191-242ac113-0001-007] PCT_ID = .90\n",
      "[253921419640696345-242ac113-0001-007] PCT_ID = .90\n",
      "[2085553172692856345-242ac113-0001-007] PCT_ID = .90\n",
      "[3484939417075576345-242ac113-0001-007] PCT_ID = .90\n",
      "[729619284243115545-242ac113-0001-007] PCT_ID = .90\n",
      "[2139262257784951271-242ac113-0001-007] PCT_ID = .90\n",
      "[5678547444067406311-242ac113-0001-007] PCT_ID = .90\n",
      "[6519791074743292391-242ac113-0001-007] PCT_ID = .90\n",
      "[3266771231161258471-242ac113-0001-007] PCT_ID = .90\n",
      "[4859954508837556711-242ac113-0001-007] PCT_ID = .90\n",
      "[397853676548779545-242ac113-0001-007] PCT_ID = .90\n",
      "[4637107759814283751-242ac113-0001-007] PCT_ID = .90\n",
      "[2268562145089163751-242ac113-0001-007] PCT_ID = .90\n",
      "[3520931658929803751-242ac113-0001-007] PCT_ID = .90\n",
      "[753119146338741785-242ac113-0001-007] PCT_ID = .90\n",
      "[5210779803511221785-242ac113-0001-007] PCT_ID = .90\n",
      "[1146845536392843751-242ac113-0001-007] PCT_ID = .90\n",
      "[2997797904247221785-242ac113-0001-007] PCT_ID = .90\n",
      "[4092971615054261785-242ac113-0001-007] PCT_ID = .90\n",
      "[1846145373497781785-242ac113-0001-007] PCT_ID = .90\n",
      "[6400700492868021785-242ac113-0001-007] PCT_ID = .90\n",
      "[8693697632856501785-242ac113-0001-007] PCT_ID = .90\n",
      "[7597750827936181785-242ac113-0001-007] PCT_ID = .90\n",
      "[8047257229573689831-242ac113-0001-007] PCT_ID = .90\n",
      "[6489945037717049831-242ac113-0001-007] PCT_ID = .90\n",
      "[4449148377349689831-242ac113-0001-007] PCT_ID = .90\n",
      "[416174086405689831-242ac113-0001-007] PCT_ID = .90\n",
      "[734447652192775705-242ac113-0001-007] PCT_ID = .90\n",
      "[2137914115506695705-242ac113-0001-007] PCT_ID = .90\n",
      "[3624617045017095705-242ac113-0001-007] PCT_ID = .90\n",
      "[4790614766535175705-242ac113-0001-007] PCT_ID = .90\n",
      "[6172048047620615705-242ac113-0001-007] PCT_ID = .90\n",
      "[836077092496862745-242ac113-0001-007] PCT_ID = .90\n",
      "[3373457871627742745-242ac113-0001-007] PCT_ID = .90\n",
      "[5922091465074142745-242ac113-0001-007] PCT_ID = .90\n",
      "[2048460460811742745-242ac113-0001-007] PCT_ID = .90\n",
      "[4582276417086942745-242ac113-0001-007] PCT_ID = .90\n",
      "[7123737415149022745-242ac113-0001-007] PCT_ID = .90\n",
      "[8258983170827742745-242ac113-0001-007] PCT_ID = .90\n",
      "[8990624668467728871-242ac113-0001-007] PCT_ID = .90\n",
      "[1875796594278928871-242ac113-0001-007] PCT_ID = .90\n",
      "[7540729608684048871-242ac113-0001-007] PCT_ID = .90\n",
      "[4002191952855568871-242ac113-0001-007] PCT_ID = .90\n",
      "[5060686642954768871-242ac113-0001-007] PCT_ID = .90\n",
      "[6195932398633488871-242ac113-0001-007] PCT_ID = .90\n",
      "[3984342683729456665-242ac113-0001-007] PCT_ID = .90\n",
      "[5766496413531696665-242ac113-0001-007] PCT_ID = .90\n",
      "[5872808673860185625-242ac113-0001-007] PCT_ID = .90\n",
      "[3402858881276505625-242ac113-0001-007] PCT_ID = .90\n",
      "[1705702554262105625-242ac113-0001-007] PCT_ID = .90\n",
      "[4833385153897959911-242ac113-0001-007] PCT_ID = .90\n",
      "[3713472431465959911-242ac113-0001-007] PCT_ID = .90\n",
      "[492589041506905625-242ac113-0001-007] PCT_ID = .90\n",
      "[6130551176635879911-242ac113-0001-007] PCT_ID = .90\n",
      "[4644963423279705625-242ac113-0001-007] PCT_ID = .90\n",
      "[7180155284432359911-242ac113-0001-007] PCT_ID = .90\n",
      "[1315935787492839911-242ac113-0001-007] PCT_ID = .90\n",
      "[8210988869802585625-242ac113-0001-007] PCT_ID = .90\n",
      "[8910242397015445991-242ac113-0001-007] PCT_ID = .90\n",
      "[7089186361760345625-242ac113-0001-007] PCT_ID = .90\n",
      "[2486572073690599911-242ac113-0001-007] PCT_ID = .90\n",
      "[5626653999877525991-242ac113-0001-007] PCT_ID = .90\n",
      "[4493383929154965991-242ac113-0001-007] PCT_ID = .90\n",
      "[7019812541681045991-242ac113-0001-007] PCT_ID = .90\n",
      "[1464251106472619545-242ac113-0001-007] PCT_ID = .90\n",
      "[1596471437675925991-242ac113-0001-007] PCT_ID = .90\n",
      "[5726721309026423271-242ac113-0001-007] PCT_ID = .90\n",
      "[7601229548795204071-242ac113-0001-007] PCT_ID = .90\n",
      "[4252057001047364071-242ac113-0001-007] PCT_ID = .90\n",
      "[5407617952036164071-242ac113-0001-007] PCT_ID = .90\n",
      "[3084598990648644071-242ac113-0001-007] PCT_ID = .90\n",
      "[672502407542084071-242ac113-0001-007] PCT_ID = .90\n",
      "[561226948233981465-242ac113-0001-007] PCT_ID = .90\n",
      "[3703124374276861465-242ac113-0001-007] PCT_ID = .90\n",
      "[7560391553141501465-242ac113-0001-007] PCT_ID = .90\n",
      "[1906489461355844071-242ac113-0001-007] PCT_ID = .90\n",
      "[1952495704427261465-242ac113-0001-007] PCT_ID = .90\n",
      "[5813714253204221465-242ac113-0001-007] PCT_ID = .90\n",
      "[7777285961973633511-242ac113-0001-007] PCT_ID = .90\n",
      "[5646595636100993511-242ac113-0001-007] PCT_ID = .90\n",
      "[1303047995883712025-242ac113-0001-007] PCT_ID = .90\n",
      "[3914134677913473511-242ac113-0001-007] PCT_ID = .90\n"
     ]
    }
   ],
   "source": [
    "for job in matches:\n",
    "    print(\"[\" + job.id + \"] PCT_ID = \" + job.parameters['PCT_ID'])\n",
    "            "
   ]
  },
  {
   "cell_type": "code",
   "execution_count": null,
   "metadata": {
    "collapsed": true
   },
   "outputs": [],
   "source": []
  }
 ],
 "metadata": {
  "kernelspec": {
   "display_name": "Python 2",
   "language": "python",
   "name": "python2"
  },
  "language_info": {
   "codemirror_mode": {
    "name": "ipython",
    "version": 2
   },
   "file_extension": ".py",
   "mimetype": "text/x-python",
   "name": "python",
   "nbconvert_exporter": "python",
   "pygments_lexer": "ipython2",
   "version": "2.7.13"
  }
 },
 "nbformat": 4,
 "nbformat_minor": 2
}
