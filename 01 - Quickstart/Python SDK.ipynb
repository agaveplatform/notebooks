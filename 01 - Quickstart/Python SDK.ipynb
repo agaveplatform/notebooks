{
 "cells": [
  {
   "cell_type": "markdown",
   "metadata": {},
   "source": [
    "# agavepy, The Agave Python SDK"
   ]
  },
  {
   "cell_type": "code",
   "execution_count": 37,
   "metadata": {},
   "outputs": [
    {
     "name": "stdout",
     "output_type": "stream",
     "text": [
      "/home/jovyan/agave\n"
     ]
    }
   ],
   "source": [
    "!mkdir -p ~/agave\n",
    "\n",
    "%cd ~/agave\n",
    "\n",
    "!pip2 install --upgrade setvar\n",
    "\n",
    "import re\n",
    "import os\n",
    "import sys\n",
    "from setvar import *\n",
    "from time import sleep\n",
    "\n",
    "# This cell enables inline plotting in the notebook\n",
    "%matplotlib inline\n",
    "\n",
    "import matplotlib\n",
    "import numpy as np\n",
    "import matplotlib.pyplot as plt\n",
    "loadvar()"
   ]
  },
  {
   "cell_type": "markdown",
   "metadata": {},
   "source": [
    "In this notebook, we introduce some basic uses of the agavepy Python library for interacting with the Agave Platform science-as-a-service APIs. The examples primarily draw from the apps service, but the concepts introduced are broadly applicable to all Agave services. In subsequent notebooks, we'll take deeper dives into specific topics such as using agavepy to launch and monitor an Agave job. For more information about Agave, please see the developer site: http://agaveapi.co/"
   ]
  },
  {
   "cell_type": "markdown",
   "metadata": {},
   "source": [
    "The agavepy library provides a high-level Python binding to the Agave API. The first step is to import the Agave class:"
   ]
  },
  {
   "cell_type": "code",
   "execution_count": 33,
   "metadata": {},
   "outputs": [],
   "source": [
    "from agavepy.agave import Agave\n",
    "\n",
    "import json"
   ]
  },
  {
   "cell_type": "markdown",
   "metadata": {},
   "source": [
    "Before we can interact with Agave, we need to instantiate a client. Typically, we would use the constructor and pass in our credentials (OAuth client key and secret as well as our username and password) together with configuration data for our \"tenant\", the organization within Agave we wish to interact with. \n"
   ]
  },
  {
   "cell_type": "code",
   "execution_count": 34,
   "metadata": {},
   "outputs": [
    {
     "name": "stdout",
     "output_type": "stream",
     "text": [
      "{u'username': u'dooley', u'apikey': u'8_2FQPkzXQJZy2q6plYjEAAISo4a', u'devurl': u'', u'access_token': u'965b81a17dc5639265f2a9d6c1eb8171', u'created_at': u'1509392036', u'expires_in': u'14088', u'apisecret': u'Ifi0JoZAtXYFTn1Q0ByU2OuuLI0a', u'expires_at': u'Mon Oct 30 23:28:44 UTC 2017', u'baseurl': u'https://agave-auth.solveij.com', u'tenantid': u'sandbox', u'refresh_token': u'd15dab0ef741e2b298e4782fe77ac0'}\n"
     ]
    }
   ],
   "source": [
    "agave_cache_dir = os.environ.get('AGAVE_CACHE_DIR')\n",
    "ag_token_cache = json.loads(open(agave_cache_dir + '/current').read())\n",
    "print (ag_token_cache)"
   ]
  },
  {
   "cell_type": "code",
   "execution_count": 44,
   "metadata": {},
   "outputs": [],
   "source": [
    "AGAVE_APP_NAME=\"funwave-tvd-nectar\" + os.environ['AGAVE_USERNAME']\n",
    "\n",
    "ag = Agave(token=ag_token_cache['access_token'], refresh_token=ag_token_cache['refresh_token'], api_key=ag_token_cache['apikey'], api_secret=ag_token_cache['apisecret'],api_server=ag_token_cache['baseurl'], client_name=AGAVE_APP_NAME, verify=False)\n",
    "#(api_server=ag_token_cache['baseurl'], api_key=ag_token_cache['apikey'], api_secret=ag_token_cache['apisecret'], verify=False, username=ag_token_cache['username'], password=os.environ.get('AGAVE_PASSWORD'))"
   ]
  },
  {
   "cell_type": "markdown",
   "metadata": {},
   "source": [
    "\n",
    "The agavepy library's Agave class also provides a restore() method for reconstituting previous OAuth sessions. Previous sessions are read from and written to a cache file, /etc/.agpy, so that OAuth sessions persist across iPython sessions. When you authenticated to JupyterHub, the OAuth login was written to the .agpy file. We can therefore use the restore method to create an OAuth client without needing to pass any credentials:"
   ]
  },
  {
   "cell_type": "markdown",
   "metadata": {},
   "source": [
    "Note that the restore method can take arguments (such as client_name) so that you can restore/manage multiple OAuth sessions. When first getting started on the hub, there is only one session in the cache file, so no arguments are required. \n",
    "\n",
    "If we ever want to inspect the OAuth session being used by our client, we have a few methods available to us. First, we can print the token_info dictionary on the token object:"
   ]
  },
  {
   "cell_type": "code",
   "execution_count": 46,
   "metadata": {},
   "outputs": [
    {
     "data": {
      "text/plain": [
       "{'access_token': u'965b81a17dc5639265f2a9d6c1eb8171',\n",
       " 'created_at': None,\n",
       " 'expires_at': None,\n",
       " 'expires_in': None,\n",
       " 'refresh_token': u'd15dab0ef741e2b298e4782fe77ac0'}"
      ]
     },
     "execution_count": 46,
     "metadata": {},
     "output_type": "execute_result"
    }
   ],
   "source": [
    "ag.token.token_info"
   ]
  },
  {
   "cell_type": "code",
   "execution_count": 52,
   "metadata": {},
   "outputs": [
    {
     "name": "stderr",
     "output_type": "stream",
     "text": [
      "/opt/conda/envs/python2/lib/python2.7/site-packages/requests/packages/urllib3/connectionpool.py:769: InsecureRequestWarning: Unverified HTTPS request is being made. Adding certificate verification is strongly advised. See: https://urllib3.readthedocs.org/en/latest/security.html\n",
      "  InsecureRequestWarning)\n"
     ]
    },
    {
     "data": {
      "text/plain": [
       "u'dbd877944d275e957d27dc0125aea0'"
      ]
     },
     "execution_count": 52,
     "metadata": {},
     "output_type": "execute_result"
    }
   ],
   "source": [
    "ag.token.refresh()"
   ]
  },
  {
   "cell_type": "code",
   "execution_count": 53,
   "metadata": {},
   "outputs": [
    {
     "data": {
      "text/plain": [
       "{u'access_token': u'dbd877944d275e957d27dc0125aea0',\n",
       " 'created_at': 1509398168,\n",
       " 'expiration': 1509412568,\n",
       " 'expires_at': 'Tue Oct 31 01:16:08 2017',\n",
       " u'expires_in': 14400,\n",
       " u'refresh_token': u'fdc4a9b5775430b0a7b77fc1b4d0fcf4',\n",
       " u'scope': u'default',\n",
       " u'token_type': u'bearer'}"
      ]
     },
     "execution_count": 53,
     "metadata": {},
     "output_type": "execute_result"
    }
   ],
   "source": [
    "ag.token.token_info"
   ]
  },
  {
   "cell_type": "markdown",
   "metadata": {},
   "source": [
    "This shows us both the access and refresh tokens being used. We can also see the end user profile associated with these tokens:"
   ]
  },
  {
   "cell_type": "code",
   "execution_count": 54,
   "metadata": {},
   "outputs": [
    {
     "name": "stderr",
     "output_type": "stream",
     "text": [
      "/opt/conda/envs/python2/lib/python2.7/site-packages/requests/packages/urllib3/connectionpool.py:769: InsecureRequestWarning: Unverified HTTPS request is being made. Adding certificate verification is strongly advised. See: https://urllib3.readthedocs.org/en/latest/security.html\n",
      "  InsecureRequestWarning)\n"
     ]
    },
    {
     "data": {
      "text/plain": [
       "{u'create_time': u'20171030162727Z',\n",
       " u'email': u'deardooley@gmail.com',\n",
       " u'first_name': u'Rion',\n",
       " u'full_name': u'dooley',\n",
       " u'last_name': u'dooley',\n",
       " u'mobile_phone': u'',\n",
       " u'phone': u'',\n",
       " u'status': u'Active',\n",
       " u'username': u'dooley'}"
      ]
     },
     "execution_count": 54,
     "metadata": {},
     "output_type": "execute_result"
    }
   ],
   "source": [
    "ag.profiles.get()"
   ]
  },
  {
   "cell_type": "markdown",
   "metadata": {},
   "source": [
    "Finally, we can inspect the ag object directly for attributes like api_key, api_secret, api_server, etc."
   ]
  },
  {
   "cell_type": "code",
   "execution_count": 55,
   "metadata": {},
   "outputs": [
    {
     "name": "stdout",
     "output_type": "stream",
     "text": [
      "8_2FQPkzXQJZy2q6plYjEAAISo4a Ifi0JoZAtXYFTn1Q0ByU2OuuLI0a https://agave-auth.solveij.com\n"
     ]
    }
   ],
   "source": [
    "print ag.api_key, ag.api_secret, ag.api_server"
   ]
  },
  {
   "cell_type": "markdown",
   "metadata": {},
   "source": [
    "We are now ready to interact with Agave services using our agavepy client. We can take a quick look at the available top-level methods of our client:"
   ]
  },
  {
   "cell_type": "code",
   "execution_count": 56,
   "metadata": {},
   "outputs": [
    {
     "data": {
      "text/plain": [
       "[u'actors',\n",
       " u'admin',\n",
       " u'apps',\n",
       " u'clients',\n",
       " u'files',\n",
       " u'jobs',\n",
       " u'meta',\n",
       " u'monitors',\n",
       " u'notifications',\n",
       " u'postits',\n",
       " u'profiles',\n",
       " u'systems',\n",
       " u'transforms']"
      ]
     },
     "execution_count": 56,
     "metadata": {},
     "output_type": "execute_result"
    }
   ],
   "source": [
    "dir(ag)"
   ]
  },
  {
   "cell_type": "markdown",
   "metadata": {},
   "source": [
    "We see there is a top-level method for each of the core science APIs in agave. We will focus on the apps service since it is of broad interest, but much of what we illustrate is generally applicable to all Agave core science APIs. \n",
    "\n",
    "We can browse a specific collection using the list() method. For example, let's see what apps are available to us:"
   ]
  },
  {
   "cell_type": "code",
   "execution_count": 63,
   "metadata": {},
   "outputs": [
    {
     "name": "stderr",
     "output_type": "stream",
     "text": [
      "/opt/conda/envs/python2/lib/python2.7/site-packages/requests/packages/urllib3/connectionpool.py:769: InsecureRequestWarning: Unverified HTTPS request is being made. Adding certificate verification is strongly advised. See: https://urllib3.readthedocs.org/en/latest/security.html\n",
      "  InsecureRequestWarning)\n"
     ]
    },
    {
     "data": {
      "text/plain": [
       "[{u'_links': {u'self': {u'href': u'https://agave-auth.solveij.com/apps/v2/dooley-nectar-fork-1.0'}},\n",
       "  u'executionSystem': u'nectar-exec-dooley',\n",
       "  u'id': u'dooley-nectar-fork-1.0',\n",
       "  u'isPublic': False,\n",
       "  u'label': u'Runs a command',\n",
       "  u'lastModified': datetime.datetime(2017, 10, 30, 14, 42, 41, tzinfo=tzoffset(None, -18000)),\n",
       "  u'name': u'dooley-nectar-fork',\n",
       "  u'revision': 1,\n",
       "  u'shortDescription': u'Runs a command',\n",
       "  u'version': u'1.0'}]"
      ]
     },
     "execution_count": 63,
     "metadata": {},
     "output_type": "execute_result"
    }
   ],
   "source": [
    "ag.apps.list()"
   ]
  },
  {
   "cell_type": "markdown",
   "metadata": {},
   "source": [
    "What we see in the output above is a python list representing the JSON object returned from Agave's apps service. It is a list of objects, each of which representing a single app. Let's capture the first app object and inspect it. To do that we can use normal Python list notation:"
   ]
  },
  {
   "cell_type": "code",
   "execution_count": 64,
   "metadata": {},
   "outputs": [
    {
     "name": "stderr",
     "output_type": "stream",
     "text": [
      "/opt/conda/envs/python2/lib/python2.7/site-packages/requests/packages/urllib3/connectionpool.py:769: InsecureRequestWarning: Unverified HTTPS request is being made. Adding certificate verification is strongly advised. See: https://urllib3.readthedocs.org/en/latest/security.html\n",
      "  InsecureRequestWarning)\n"
     ]
    }
   ],
   "source": [
    "app = ag.apps.list()[0]"
   ]
  },
  {
   "cell_type": "code",
   "execution_count": 65,
   "metadata": {},
   "outputs": [
    {
     "name": "stdout",
     "output_type": "stream",
     "text": [
      "<class 'agavepy.agave.AttrDict'>\n"
     ]
    },
    {
     "data": {
      "text/plain": [
       "{u'_links': {u'self': {u'href': u'https://agave-auth.solveij.com/apps/v2/dooley-nectar-fork-1.0'}},\n",
       " u'executionSystem': u'nectar-exec-dooley',\n",
       " u'id': u'dooley-nectar-fork-1.0',\n",
       " u'isPublic': False,\n",
       " u'label': u'Runs a command',\n",
       " u'lastModified': datetime.datetime(2017, 10, 30, 14, 42, 41, tzinfo=tzoffset(None, -18000)),\n",
       " u'name': u'dooley-nectar-fork',\n",
       " u'revision': 1,\n",
       " u'shortDescription': u'Runs a command',\n",
       " u'version': u'1.0'}"
      ]
     },
     "execution_count": 65,
     "metadata": {},
     "output_type": "execute_result"
    }
   ],
   "source": [
    "print type(app); app"
   ]
  },
  {
   "cell_type": "markdown",
   "metadata": {},
   "source": [
    "We see that the app object is of type agavepy.agave.AttrDict. That's a Python dictionary with some customizations to provide convenience features such as using dot notation for keys/attributes. For example, we see that the app object has an 'id' key. We can access it directly using dot notation:"
   ]
  },
  {
   "cell_type": "code",
   "execution_count": 66,
   "metadata": {},
   "outputs": [
    {
     "data": {
      "text/plain": [
       "u'dooley-nectar-fork-1.0'"
      ]
     },
     "execution_count": 66,
     "metadata": {},
     "output_type": "execute_result"
    }
   ],
   "source": [
    "app.id"
   ]
  },
  {
   "cell_type": "markdown",
   "metadata": {},
   "source": [
    "Equivalently, we can use normal Python dictionary syntax:"
   ]
  },
  {
   "cell_type": "code",
   "execution_count": 67,
   "metadata": {},
   "outputs": [
    {
     "data": {
      "text/plain": [
       "u'dooley-nectar-fork-1.0'"
      ]
     },
     "execution_count": 67,
     "metadata": {},
     "output_type": "execute_result"
    }
   ],
   "source": [
    "app['id']"
   ]
  },
  {
   "cell_type": "markdown",
   "metadata": {},
   "source": [
    "In Agave, the app id is the unique identifier for the application. We'll come back to that in a minute. For now, just know that this example is very typical of responses from agavepy: in general the JSON response object is represented by lists of AttrDicts.\n",
    "\n",
    "Stepping back for a second, let's explore the apps collection a bit. We can always get a list of operations available for a collection by using the dir(-) method:"
   ]
  },
  {
   "cell_type": "code",
   "execution_count": 68,
   "metadata": {},
   "outputs": [
    {
     "data": {
      "text/plain": [
       "[u'add',\n",
       " u'delete',\n",
       " u'deletePermissions',\n",
       " u'deletePermissionsForUser',\n",
       " u'get',\n",
       " u'getJobSubmissionForm',\n",
       " u'list',\n",
       " u'listByName',\n",
       " u'listByOntologyTerm',\n",
       " u'listBySystemId',\n",
       " u'listByTag',\n",
       " u'listPermissions',\n",
       " u'listPermissionsForUser',\n",
       " u'manage',\n",
       " u'update',\n",
       " u'updateApplicationPermissions',\n",
       " u'updatePermissionsForUser']"
      ]
     },
     "execution_count": 68,
     "metadata": {},
     "output_type": "execute_result"
    }
   ],
   "source": [
    "dir(ag.apps)"
   ]
  },
  {
   "cell_type": "markdown",
   "metadata": {},
   "source": [
    "Also notice that we have tab-completion on these operations. So, if we start typing \"ag.apps.l\" and then hit tab, Jupyter provides a select box of operations beginning with \"l\". Try putting the following cell in focus and then hitting the tab key (but don't actually hit enter or try to execute the cell; otherwise you'll get an exception because there's no method called \"l\"):"
   ]
  },
  {
   "cell_type": "code",
   "execution_count": null,
   "metadata": {},
   "outputs": [],
   "source": [
    "ag.apps.l"
   ]
  },
  {
   "cell_type": "markdown",
   "metadata": {},
   "source": [
    "If we would like to get details about a specific object for which we know the unique id, in general we use the get method, passing in the id for the object. Here, we will use an app id we found from the ag.apps.list command."
   ]
  },
  {
   "cell_type": "code",
   "execution_count": 70,
   "metadata": {},
   "outputs": [
    {
     "name": "stderr",
     "output_type": "stream",
     "text": [
      "/opt/conda/envs/python2/lib/python2.7/site-packages/requests/packages/urllib3/connectionpool.py:769: InsecureRequestWarning: Unverified HTTPS request is being made. Adding certificate verification is strongly advised. See: https://urllib3.readthedocs.org/en/latest/security.html\n",
      "  InsecureRequestWarning)\n"
     ]
    },
    {
     "data": {
      "text/plain": [
       "{u'_links': {u'executionSystem': {u'href': u'https://agave-auth.solveij.com/systems/v2/nectar-exec-dooley'},\n",
       "  u'history': {u'href': u'https://agave-auth.solveij.com/apps/v2/dooley-nectar-fork-1.0/history'},\n",
       "  u'metadata': {u'href': u'https://agave-auth.solveij.com/meta/v2/data/?q=%7B%22associationIds%22%3A%229069040533513048551-242ac118-0001-005%22%7D'},\n",
       "  u'owner': {u'href': u'https://agave-auth.solveij.com/profiles/v2/dooley'},\n",
       "  u'permissions': {u'href': u'https://agave-auth.solveij.com/apps/v2/dooley-nectar-fork-1.0/pems'},\n",
       "  u'self': {u'href': u'https://agave-auth.solveij.com/apps/v2/dooley-nectar-fork-1.0'},\n",
       "  u'storageSystem': {u'href': u'https://agave-auth.solveij.com/systems/v2/nectar-storage-dooley'}},\n",
       " u'available': True,\n",
       " u'checkpointable': False,\n",
       " u'defaultMaxRunTime': None,\n",
       " u'defaultMemoryPerNode': 1,\n",
       " u'defaultNodeCount': 1,\n",
       " u'defaultProcessorsPerNode': 1,\n",
       " u'defaultQueue': None,\n",
       " u'deploymentPath': u'agave-deployment',\n",
       " u'deploymentSystem': u'nectar-storage-dooley',\n",
       " u'executionSystem': u'nectar-exec-dooley',\n",
       " u'executionType': u'CLI',\n",
       " u'helpURI': None,\n",
       " u'icon': None,\n",
       " u'id': u'dooley-nectar-fork-1.0',\n",
       " u'inputs': [{u'details': {u'argument': None,\n",
       "    u'description': u'',\n",
       "    u'label': u'Data file',\n",
       "    u'repeatArgument': False,\n",
       "    u'showArgument': False},\n",
       "   u'id': u'datafile',\n",
       "   u'semantics': {u'fileTypes': [],\n",
       "    u'maxCardinality': 1,\n",
       "    u'minCardinality': 0,\n",
       "    u'ontology': []},\n",
       "   u'value': {u'default': u'/dev/null',\n",
       "    u'enquote': False,\n",
       "    u'order': 0,\n",
       "    u'required': False,\n",
       "    u'validator': u'',\n",
       "    u'visible': True}}],\n",
       " u'isPublic': False,\n",
       " u'label': u'Runs a command',\n",
       " u'lastModified': datetime.datetime(2017, 10, 30, 14, 42, 41, tzinfo=tzoffset(None, -18000)),\n",
       " u'longDescription': u'',\n",
       " u'modules': [],\n",
       " u'name': u'dooley-nectar-fork',\n",
       " u'ontology': [],\n",
       " u'outputs': [],\n",
       " u'owner': u'dooley',\n",
       " u'parallelism': u'SERIAL',\n",
       " u'parameters': [{u'details': {u'argument': None,\n",
       "    u'description': u'This is the actual command you want to run. ex. df -h -d 1',\n",
       "    u'label': u'Command to run',\n",
       "    u'repeatArgument': False,\n",
       "    u'showArgument': False},\n",
       "   u'id': u'command',\n",
       "   u'semantics': {u'maxCardinality': 1, u'minCardinality': 1, u'ontology': []},\n",
       "   u'value': {u'default': u'/bin/date',\n",
       "    u'enquote': False,\n",
       "    u'order': 0,\n",
       "    u'required': True,\n",
       "    u'type': u'string',\n",
       "    u'validator': None,\n",
       "    u'visible': True}}],\n",
       " u'revision': 1,\n",
       " u'shortDescription': u'Runs a command',\n",
       " u'tags': [],\n",
       " u'templatePath': u'fork-wrapper.txt',\n",
       " u'testPath': u'fork-test.txt',\n",
       " u'uuid': u'9069040533513048551-242ac118-0001-005',\n",
       " u'version': u'1.0'}"
      ]
     },
     "execution_count": 70,
     "metadata": {},
     "output_type": "execute_result"
    }
   ],
   "source": [
    "ag.apps.get(appId=app.id)"
   ]
  },
  {
   "cell_type": "markdown",
   "metadata": {},
   "source": [
    "Whoa, that's a lot of information. We aren't going to give a comprehensive introduction to Agave applications in this notebook. Instead we refer you to the official Agave app tutorial on the website: http://agaveapi.co/documentation/tutorials/app-management-tutorial/\n",
    "\n",
    "However, we will point out a couple of important points. Let's capture that response in an object called full_app:"
   ]
  },
  {
   "cell_type": "code",
   "execution_count": 71,
   "metadata": {},
   "outputs": [
    {
     "name": "stderr",
     "output_type": "stream",
     "text": [
      "/opt/conda/envs/python2/lib/python2.7/site-packages/requests/packages/urllib3/connectionpool.py:769: InsecureRequestWarning: Unverified HTTPS request is being made. Adding certificate verification is strongly advised. See: https://urllib3.readthedocs.org/en/latest/security.html\n",
      "  InsecureRequestWarning)\n"
     ]
    }
   ],
   "source": [
    "full_app = ag.apps.get(appId=app.id)"
   ]
  },
  {
   "cell_type": "markdown",
   "metadata": {},
   "source": [
    "Complex sub-objects of the application such as application inputs and parameters come back as top level attributes. and are represented as lists. The individual elements of the list are represented as AttrDicts. We can see this by exploring our full_app's inputs:"
   ]
  },
  {
   "cell_type": "code",
   "execution_count": 72,
   "metadata": {},
   "outputs": [
    {
     "name": "stdout",
     "output_type": "stream",
     "text": [
      "<type 'list'>\n",
      "<class 'agavepy.agave.AttrDict'>\n"
     ]
    },
    {
     "data": {
      "text/plain": [
       "{u'details': {u'argument': None,\n",
       "  u'description': u'',\n",
       "  u'label': u'Data file',\n",
       "  u'repeatArgument': False,\n",
       "  u'showArgument': False},\n",
       " u'id': u'datafile',\n",
       " u'semantics': {u'fileTypes': [],\n",
       "  u'maxCardinality': 1,\n",
       "  u'minCardinality': 0,\n",
       "  u'ontology': []},\n",
       " u'value': {u'default': u'/dev/null',\n",
       "  u'enquote': False,\n",
       "  u'order': 0,\n",
       "  u'required': False,\n",
       "  u'validator': u'',\n",
       "  u'visible': True}}"
      ]
     },
     "execution_count": 72,
     "metadata": {},
     "output_type": "execute_result"
    }
   ],
   "source": [
    "print type(full_app.inputs); print type(full_app.inputs[0]); full_app.inputs[0]"
   ]
  },
  {
   "cell_type": "markdown",
   "metadata": {},
   "source": [
    "Then, if we want the input id, we can use dot notation or dictionary notation just as before:"
   ]
  },
  {
   "cell_type": "code",
   "execution_count": 73,
   "metadata": {},
   "outputs": [
    {
     "data": {
      "text/plain": [
       "u'datafile'"
      ]
     },
     "execution_count": 73,
     "metadata": {},
     "output_type": "execute_result"
    }
   ],
   "source": [
    "full_app.inputs[0].id"
   ]
  },
  {
   "cell_type": "markdown",
   "metadata": {},
   "source": [
    "You now have the ability to fully explore individual Agave objects returned from agavepy, but what about searching for objects? The Agave platform provides a powerful search feature across most services, and agavepy supports that as well. \n",
    "\n",
    "Every retrieval operation in agavepy (for example, apps.list) supports a \"search\" argument. The syntax for the search argument is identical to that described in the Agave documentation: it uses a dot notation combining search terms, values and (optional) operators. The search object itself should be a python dictionary with strings for the keys and values. Formally, each key:value pair in the dictionary adheres to the following form: \n",
    "                        $$term.operator:value$$\n",
    "The operator is optional and defaults to equality ('eq'). For example, the following search filters the list of all apps down to just those with the id attribute equal to our app.id:"
   ]
  },
  {
   "cell_type": "code",
   "execution_count": 74,
   "metadata": {},
   "outputs": [
    {
     "name": "stderr",
     "output_type": "stream",
     "text": [
      "/opt/conda/envs/python2/lib/python2.7/site-packages/requests/packages/urllib3/connectionpool.py:769: InsecureRequestWarning: Unverified HTTPS request is being made. Adding certificate verification is strongly advised. See: https://urllib3.readthedocs.org/en/latest/security.html\n",
      "  InsecureRequestWarning)\n"
     ]
    },
    {
     "data": {
      "text/plain": [
       "[{u'_links': {u'self': {u'href': u'https://agave-auth.solveij.com/apps/v2/dooley-nectar-fork-1.0'}},\n",
       "  u'executionSystem': u'nectar-exec-dooley',\n",
       "  u'id': u'dooley-nectar-fork-1.0',\n",
       "  u'isPublic': False,\n",
       "  u'label': u'Runs a command',\n",
       "  u'lastModified': datetime.datetime(2017, 10, 30, 14, 42, 41, tzinfo=tzoffset(None, -18000)),\n",
       "  u'name': u'dooley-nectar-fork',\n",
       "  u'revision': 1,\n",
       "  u'shortDescription': u'Runs a command',\n",
       "  u'version': u'1.0'}]"
      ]
     },
     "execution_count": 74,
     "metadata": {},
     "output_type": "execute_result"
    }
   ],
   "source": [
    "ag.apps.list(search={'id': app.id})"
   ]
  },
  {
   "cell_type": "markdown",
   "metadata": {},
   "source": [
    "Equivalently, we could explicitly set the equality operator:"
   ]
  },
  {
   "cell_type": "code",
   "execution_count": 75,
   "metadata": {},
   "outputs": [
    {
     "name": "stderr",
     "output_type": "stream",
     "text": [
      "/opt/conda/envs/python2/lib/python2.7/site-packages/requests/packages/urllib3/connectionpool.py:769: InsecureRequestWarning: Unverified HTTPS request is being made. Adding certificate verification is strongly advised. See: https://urllib3.readthedocs.org/en/latest/security.html\n",
      "  InsecureRequestWarning)\n"
     ]
    },
    {
     "data": {
      "text/plain": [
       "[{u'_links': {u'self': {u'href': u'https://agave-auth.solveij.com/apps/v2/dooley-nectar-fork-1.0'}},\n",
       "  u'executionSystem': u'nectar-exec-dooley',\n",
       "  u'id': u'dooley-nectar-fork-1.0',\n",
       "  u'isPublic': False,\n",
       "  u'label': u'Runs a command',\n",
       "  u'lastModified': datetime.datetime(2017, 10, 30, 14, 42, 41, tzinfo=tzoffset(None, -18000)),\n",
       "  u'name': u'dooley-nectar-fork',\n",
       "  u'revision': 1,\n",
       "  u'shortDescription': u'Runs a command',\n",
       "  u'version': u'1.0'}]"
      ]
     },
     "execution_count": 75,
     "metadata": {},
     "output_type": "execute_result"
    }
   ],
   "source": [
    "ag.apps.list(search={'id.eq': app.id})"
   ]
  },
  {
   "cell_type": "markdown",
   "metadata": {},
   "source": [
    "Typically, the list of available search terms is identical to the attributes included in the JSON returned when requesting the full resource description. Operators include 'like', 'lt', 'gt', 'lte', 'gte', etc. See the official Agave documentation for the complete list. \n",
    "\n",
    "Here we retrieve all apps with a name is \"like\" opensees:"
   ]
  },
  {
   "cell_type": "code",
   "execution_count": 76,
   "metadata": {},
   "outputs": [
    {
     "name": "stderr",
     "output_type": "stream",
     "text": [
      "/opt/conda/envs/python2/lib/python2.7/site-packages/requests/packages/urllib3/connectionpool.py:769: InsecureRequestWarning: Unverified HTTPS request is being made. Adding certificate verification is strongly advised. See: https://urllib3.readthedocs.org/en/latest/security.html\n",
      "  InsecureRequestWarning)\n"
     ]
    },
    {
     "data": {
      "text/plain": [
       "[]"
      ]
     },
     "execution_count": 76,
     "metadata": {},
     "output_type": "execute_result"
    }
   ],
   "source": [
    "ag.apps.list(search={'name.like': 'opensees'})"
   ]
  },
  {
   "cell_type": "markdown",
   "metadata": {},
   "source": [
    "Two results were returned, both with name \"opensees\".\n",
    "\n",
    "You can include multiple search expressions in the form of additional key:value pairs to build a more restrictive query. Here we restrict the result to opensees apps with revision at least 25:"
   ]
  },
  {
   "cell_type": "code",
   "execution_count": 77,
   "metadata": {},
   "outputs": [
    {
     "name": "stderr",
     "output_type": "stream",
     "text": [
      "/opt/conda/envs/python2/lib/python2.7/site-packages/requests/packages/urllib3/connectionpool.py:769: InsecureRequestWarning: Unverified HTTPS request is being made. Adding certificate verification is strongly advised. See: https://urllib3.readthedocs.org/en/latest/security.html\n",
      "  InsecureRequestWarning)\n"
     ]
    },
    {
     "data": {
      "text/plain": [
       "[]"
      ]
     },
     "execution_count": 77,
     "metadata": {},
     "output_type": "execute_result"
    }
   ],
   "source": [
    "ag.apps.list(search={'name.like': 'opensees', 'revision.gte': 25})"
   ]
  },
  {
   "cell_type": "markdown",
   "metadata": {},
   "source": [
    "We hope this gives you enough general information to begin exploring the Agave services using agavepy on your own. In subsequent notebooks, we'll take deeper dives into specific topics such as using agavepy to launch and monitor an Agave job executing OpenSees on Stampede."
   ]
  },
  {
   "cell_type": "code",
   "execution_count": null,
   "metadata": {
    "collapsed": true
   },
   "outputs": [],
   "source": []
  }
 ],
 "metadata": {
  "kernelspec": {
   "display_name": "Python 2",
   "language": "python",
   "name": "python2"
  },
  "language_info": {
   "codemirror_mode": {
    "name": "ipython",
    "version": 2
   },
   "file_extension": ".py",
   "mimetype": "text/x-python",
   "name": "python",
   "nbconvert_exporter": "python",
   "pygments_lexer": "ipython2",
   "version": "2.7.13"
  }
 },
 "nbformat": 4,
 "nbformat_minor": 1
}
